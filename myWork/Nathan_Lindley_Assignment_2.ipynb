{
  "cells": [
    {
      "cell_type": "raw",
      "metadata": {},
      "source": [
        "---\n",
        "title: 'Assignment 2'\n",
        "author: 'Nathan Lindley'\n",
        "date: '9/15/2022'\n",
        "format: \n",
        "    html:\n",
        "        theme: cosmo\n",
        "        toc: true\n",
        "        toc-location: left\n",
        "        number-sections: true\n",
        "---"
      ],
      "id": "f752572e"
    },
    {
      "cell_type": "markdown",
      "metadata": {},
      "source": [
        "# Article\n",
        "\n",
        "## Article Link\n",
        "\n",
        "[A Beginner’s Guide to Data Engineering — Part I](https://medium.com/@rchang/a-beginners-guide-to-data-engineering-part-i-4227c5c457d7)\n",
        "\n",
        "## Summary of Article\n",
        "\n",
        "This article focuses on how the majority of the work that a data scientist does in their day-to-day job is data engineering and cleaning. The author explains that many young data scientists (themself included) had aspirations of creating large and elaborate projects and visualizations using data but unfortunately they ended up doing the more mundane and less glamorous task of data cleaning. Much of the cirriculum that is available teaches us how to work with data that has already been cleaned and made easy to work with. Contrary to this the real-world is full of sensor data and other more 'raw' forms of data that need to be cleaned before they're able to be worked with. \n",
        "\n",
        "## About the Author\n",
        "\n",
        "Robert Chang has a Masters Degree in Statistics and does data science for airbnb. He previously did data science for twitter.\n",
        "\n",
        "## Image From Article\n",
        "\n",
        "<img width=75% src=\"https://miro.medium.com/max/1400/1*2XybEH3eav63pBIu-tlRlw.png\"/>\n",
        "\n",
        "\n",
        "## More Information\n",
        "\n",
        "::: {.panel-tabset}\n",
        "\n",
        "### Related Articles\n",
        "\n",
        "[ETL (Extract, Transform, Load) - (IBM)](https://www.ibm.com/cloud/learn/etl)\n",
        "\n",
        "[ETL (Extract, Transform, Load) - (DataBricks)](https://www.databricks.com/glossary/extract-transform-load)\n",
        "\n",
        "\n",
        "### Most Useful Things from the Article\n",
        "\n",
        "* The author explains that the majority of the work that a data scientist does in their day-to-day job is data engineering and cleaning.\n",
        "* There is much more data cleaning than data science in the real world.\n",
        "* Three main steps of data engineering: Extract, Transform, Load (ETL)\n",
        "\n",
        ":::\n",
        "\n",
        "# Plot\n"
      ],
      "id": "f25ecb40"
    },
    {
      "cell_type": "code",
      "metadata": {},
      "source": [
        "import matplotlib.pyplot as plt\n",
        "from sklearn.datasets import load_iris"
      ],
      "id": "7fa5ad43",
      "execution_count": null,
      "outputs": []
    }
  ],
  "metadata": {
    "kernelspec": {
      "name": "python3",
      "language": "python",
      "display_name": "Python 3"
    }
  },
  "nbformat": 4,
  "nbformat_minor": 5
}